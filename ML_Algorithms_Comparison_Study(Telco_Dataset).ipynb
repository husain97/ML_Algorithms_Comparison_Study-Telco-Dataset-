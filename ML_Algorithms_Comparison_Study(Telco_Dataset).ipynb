{
  "nbformat": 4,
  "nbformat_minor": 0,
  "metadata": {
    "colab": {
      "name": "ML_Algorithms_Comparison_Study(Telco Dataset).ipynb",
      "provenance": []
    },
    "kernelspec": {
      "name": "python3",
      "display_name": "Python 3"
    }
  },
  "cells": [
    {
      "cell_type": "code",
      "metadata": {
        "id": "AFWhDUx0keBP",
        "colab_type": "code",
        "colab": {}
      },
      "source": [
        "#IMPORTING DATASET\n",
        "import pandas as pd\n",
        "import numpy as np\n",
        "from google.colab import files\n",
        "uploaded = files.upload()"
      ],
      "execution_count": 0,
      "outputs": []
    },
    {
      "cell_type": "code",
      "metadata": {
        "id": "TMjD1LHtk65F",
        "colab_type": "code",
        "colab": {}
      },
      "source": [
        "#CONVERTING THE CATEGORICAL INPUTS TO NUMERIC INPUTS - PROCESSING DATA \n",
        "data_pd = pd.read_csv('WA_Fn-UseC_-Telco-Customer-Churn.csv', index_col=False)\n",
        "df = data_pd\n",
        "for col_name in df.columns:\n",
        "    if(df[col_name].dtype == 'object'):\n",
        "        df[col_name]= df[col_name].astype('category')\n",
        "        df[col_name] = df[col_name].cat.codes\n",
        "\n",
        "features_cols = ['customerID', 'gender', 'SeniorCitizen', 'Partner', 'Dependents',\n",
        "       'tenure', 'PhoneService', 'MultipleLines', 'InternetService',\n",
        "       'OnlineSecurity', 'OnlineBackup', 'DeviceProtection', 'TechSupport',\n",
        "       'StreamingTV', 'StreamingMovies', 'Contract', 'PaperlessBilling',\n",
        "       'PaymentMethod', 'MonthlyCharges', 'TotalCharges']\n",
        "\n",
        "#FEATURES AND LABELS\n",
        "X = df[features_cols]\n",
        "Y = df.Churn\n",
        "\n",
        "#PREPARING TRAINING DATASET AND TEST DATASET\n",
        "from sklearn.model_selection import train_test_split\n",
        "X_train, X_test, Y_train, Y_test = train_test_split(X, Y, test_size=0.3, random_state=1)"
      ],
      "execution_count": 0,
      "outputs": []
    },
    {
      "cell_type": "code",
      "metadata": {
        "id": "c23_ZtcumBXM",
        "colab_type": "code",
        "colab": {}
      },
      "source": [
        "import time\n",
        "\n",
        "#GAUSSIAN(NB) NAIVE BAYES\n",
        "start = time.time()\n",
        "from sklearn.naive_bayes import GaussianNB\n",
        "from sklearn import metrics\n",
        "gaussianNB = GaussianNB()\n",
        "gaussianNB.fit(X_train, Y_train)\n",
        "Y_pred_gnb = gaussianNB.predict(X_test)\n",
        "acc_score_gnb = round(metrics.accuracy_score(Y_test,Y_pred_gnb) * 100)\n",
        "confusion_gnb = metrics.confusion_matrix(Y_test,Y_pred_gnb)\n",
        "end = time.time()\n",
        "proc_time_gnb = end - start\n",
        "#print(\"Total execution time: {}\".format(proc_time_gnb), \"seconds\")\n",
        "\n",
        "#K-NEAREST NEIGHBORS(KNN)\n",
        "start = time.time()\n",
        "from sklearn.neighbors import KNeighborsClassifier\n",
        "knn = KNeighborsClassifier(n_neighbors=7)\n",
        "knn.fit(X_train, Y_train)\n",
        "Y_pred_knn = knn.predict(X_test)\n",
        "acc_score_knn = round(metrics.accuracy_score(Y_test,Y_pred_knn) * 100)\n",
        "confusion_knn = metrics.confusion_matrix(Y_test,Y_pred_knn)\n",
        "end = time.time()\n",
        "proc_time_knn = end - start\n",
        "\n",
        "#DECISION TREE CLASSIFIER - UNPRUNDED TREE\n",
        "from sklearn.tree import DecisionTreeClassifier\n",
        "start = time.time()\n",
        "dtc_unpruned = DecisionTreeClassifier()\n",
        "dtc_unpruned.fit(X_train, Y_train)\n",
        "Y_pred_dtc_unpruned = dtc_unpruned.predict(X_test)\n",
        "acc_score_dtc_unpruned = round(metrics.accuracy_score(Y_test,Y_pred_dtc_unpruned) * 100)\n",
        "confusion_dtc_unpruned = metrics.confusion_matrix(Y_test,Y_pred_dtc_unpruned)\n",
        "end = time.time()\n",
        "proc_time_dtc_unpruned = end - start\n",
        "\n",
        "#DECISION TREE CLASSIFIER - PRUNDED TREE\n",
        "start = time.time()\n",
        "dtc_pruned = DecisionTreeClassifier(criterion='entropy', max_depth=3)\n",
        "dtc_pruned.fit(X_train, Y_train)\n",
        "Y_pred_dtc_pruned = dtc_pruned.predict(X_test)\n",
        "acc_score_dtc_pruned = round(metrics.accuracy_score(Y_test,Y_pred_dtc_pruned) * 100)\n",
        "confusion_dtc_pruned = metrics.confusion_matrix(Y_test,Y_pred_dtc_pruned)\n",
        "end = time.time()\n",
        "proc_time_dtc_pruned = end - start"
      ],
      "execution_count": 0,
      "outputs": []
    },
    {
      "cell_type": "code",
      "metadata": {
        "id": "IMADJtc9yyVI",
        "colab_type": "code",
        "colab": {}
      },
      "source": [
        "#SUPPORT VECTOR MACHINES - KERNEL : SIGMOID\n",
        "start = time.time()\n",
        "from sklearn import svm\n",
        "svm_model_sig = svm.SVC(kernel='sigmoid', gamma='auto')\n",
        "svm_model_sig.fit(X_train, Y_train)\n",
        "Y_pred_svm_sig = svm_model_sig.predict(X_test)\n",
        "acc_score_svm_sig = round(metrics.accuracy_score(Y_test,Y_pred_svm_sig) * 100)\n",
        "confusion_svm_sig = metrics.confusion_matrix(Y_test,Y_pred_svm_sig)\n",
        "end = time.time()\n",
        "proc_time_svm_sig = end - start\n",
        "\n",
        "#SUPPORT VECTOR MACHINES - KERNEL : RBF\n",
        "start = time.time()\n",
        "svm_model_rbf = svm.SVC(kernel='rbf', gamma='auto')\n",
        "svm_model_rbf.fit(X_train, Y_train)\n",
        "Y_pred_svm_rbf = svm_model_rbf.predict(X_test)\n",
        "acc_score_svm_rbf = round(metrics.accuracy_score(Y_test,Y_pred_svm_rbf) * 100)\n",
        "confusion_svm_rbf = metrics.confusion_matrix(Y_test,Y_pred_svm_rbf)\n",
        "end = time.time()\n",
        "proc_time_svm_rbf = end - start"
      ],
      "execution_count": 0,
      "outputs": []
    },
    {
      "cell_type": "code",
      "metadata": {
        "id": "3TQZpR7n6nTg",
        "colab_type": "code",
        "colab": {
          "base_uri": "https://localhost:8080/",
          "height": 141
        },
        "outputId": "0cf61d90-b5dd-4c1b-d947-d93c2093a7cb"
      },
      "source": [
        "#DISPLAYING EVALUATION REPORTS\n",
        "print('+--------------------+-----------------+------------+-------------------------------------------+----------------------------------------+------------------------------------+--------------------------------+')\n",
        "print('| METRICS\\ALGORITHMS |  GAUSSIAN(NB)   |  KNN(N=7)  | DECISION TREE CLASSIFIER(UNPRUNDED TREE)  | DECISION TREE CLASSIFIER(PRUNDED TREE) |  SUPPORT VECTOR MACHINES - SIGMOID |  SUPPORT VECTOR MACHINES - RBF |')\n",
        "print('+--------------------+-----------------+------------+-------------------------------------------+----------------------------------------+------------------------------------+--------------------------------+')\n",
        "print('| ACCURACY           |  ', acc_score_gnb,'%        |  ', acc_score_knn, '%   |                 ', acc_score_dtc_unpruned, '%                   |              ', acc_score_dtc_pruned, '%                   |             ',acc_score_svm_sig, '%                |             ',acc_score_svm_rbf, '%            |')\n",
        "print('| EXEC. TIME         |  ', round(proc_time_gnb, 3),'s       |  ', round(proc_time_knn, 3), 's  |                 ', round(proc_time_dtc_unpruned, 3), 's                  |              ', round(proc_time_dtc_pruned, 3), 's                  |             ',round(proc_time_svm_sig, 3), 's               |             ',round(proc_time_svm_rbf, 3), 's            |')\n",
        "print('+--------------------+-----------------+------------+-------------------------------------------+----------------------------------------+------------------------------------+--------------------------------+')"
      ],
      "execution_count": 74,
      "outputs": [
        {
          "output_type": "stream",
          "text": [
            "+--------------------+-----------------+------------+-------------------------------------------+----------------------------------------+------------------------------------+--------------------------------+\n",
            "| METRICS\\ALGORITHMS |  GAUSSIAN(NB)   |  KNN(N=7)  | DECISION TREE CLASSIFIER(UNPRUNDED TREE)  | DECISION TREE CLASSIFIER(PRUNDED TREE) |  SUPPORT VECTOR MACHINES - SIGMOID |  SUPPORT VECTOR MACHINES - RBF |\n",
            "+--------------------+-----------------+------------+-------------------------------------------+----------------------------------------+------------------------------------+--------------------------------+\n",
            "| ACCURACY           |   76.0 %        |   71.0 %   |                  74.0 %                   |               79.0 %                   |              75.0 %                |              75.0 %            |\n",
            "| EXEC. TIME         |   0.013 s       |   0.132 s  |                  0.034 s                  |               0.018 s                  |              0.585 s               |              1.57 s            |\n",
            "+--------------------+-----------------+------------+-------------------------------------------+----------------------------------------+------------------------------------+--------------------------------+\n"
          ],
          "name": "stdout"
        }
      ]
    },
    {
      "cell_type": "code",
      "metadata": {
        "id": "m8Qg0qDwBT7N",
        "colab_type": "code",
        "colab": {
          "base_uri": "https://localhost:8080/",
          "height": 451
        },
        "outputId": "e88d4ea7-2fe6-4153-97f3-f36cfe5892c3"
      },
      "source": [
        "#DISPLAYING CONFUSION MATRIX FOR EACH ALGORITHM\n",
        "print('+------------------------------------+')\n",
        "print(\"| CONFUSION MATRIX : GAUSSIAN NB  |\")\n",
        "print(confusion_gnb)\n",
        "print('+------------------------------------+')\n",
        "print(\"| CONFUSION MATRIX : KNN          |\")\n",
        "print(confusion_knn)\n",
        "print('+------------------------------------+')\n",
        "print(\"| CONFUSION MATRIX : DCT - UNPRUNDED |\")\n",
        "print(confusion_dtc_unpruned)\n",
        "print('+------------------------------------+')\n",
        "print(\"| CONFUSION MATRIX : DCT - UNPRUNDED |\")\n",
        "print(confusion_dtc_pruned)\n",
        "print('+------------------------------------+')\n",
        "print(\"| CONFUSION MATRIX : SVM - SIGMOID   |\")\n",
        "print(confusion_svm_sig)\n",
        "print('+------------------------------------+')\n",
        "print(\"| CONFUSION MATRIX : SVM - RBF       |\")\n",
        "print(confusion_svm_rbf)\n",
        "print('+------------------------------------+')"
      ],
      "execution_count": 79,
      "outputs": [
        {
          "output_type": "stream",
          "text": [
            "+------------------------------------+\n",
            "| CONFUSION MATRIX : GAUSSIAN NB  |\n",
            "[[1206  379]\n",
            " [ 124  404]]\n",
            "+------------------------------------+\n",
            "| CONFUSION MATRIX : KNN          |\n",
            "[[1428  157]\n",
            " [ 457   71]]\n",
            "+------------------------------------+\n",
            "| CONFUSION MATRIX : DCT - UNPRUNDED |\n",
            "[[1264  321]\n",
            " [ 237  291]]\n",
            "+------------------------------------+\n",
            "| CONFUSION MATRIX : DCT - UNPRUNDED |\n",
            "[[1493   92]\n",
            " [ 348  180]]\n",
            "+------------------------------------+\n",
            "| CONFUSION MATRIX : SVM - SIGMOID   |\n",
            "[[1585    0]\n",
            " [ 528    0]]\n",
            "+------------------------------------+\n",
            "| CONFUSION MATRIX : SVM - RBF       |\n",
            "[[1584    1]\n",
            " [ 528    0]]\n",
            "+------------------------------------+\n"
          ],
          "name": "stdout"
        }
      ]
    }
  ]
}