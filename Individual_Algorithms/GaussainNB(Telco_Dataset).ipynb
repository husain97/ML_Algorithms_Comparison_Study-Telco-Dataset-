{
  "nbformat": 4,
  "nbformat_minor": 0,
  "metadata": {
    "colab": {
      "name": "GaussainNB(Telco Dataset).ipynb",
      "provenance": []
    },
    "kernelspec": {
      "name": "python3",
      "display_name": "Python 3"
    }
  },
  "cells": [
    {
      "cell_type": "code",
      "metadata": {
        "id": "E2RLGxONBaaE",
        "colab_type": "code",
        "colab": {}
      },
      "source": [
        "import pandas as pd\n",
        "import numpy as np\n",
        "from google.colab import files\n",
        "uploaded = files.upload()\n"
      ],
      "execution_count": 0,
      "outputs": []
    },
    {
      "cell_type": "code",
      "metadata": {
        "id": "VIUwK8eVFu0S",
        "colab_type": "code",
        "colab": {}
      },
      "source": [
        "data_pd = pd.read_csv('WA_Fn-UseC_-Telco-Customer-Churn.csv', index_col=False)\n",
        "#data_pd.head()"
      ],
      "execution_count": 0,
      "outputs": []
    },
    {
      "cell_type": "code",
      "metadata": {
        "id": "IzdcMgHRSj8M",
        "colab_type": "code",
        "colab": {}
      },
      "source": [
        "#Feature Selection using Recursive Feature Elimination\n",
        "from sklearn.feature_selection import RFE\n",
        "from sklearn.linear_model import LogisticRegression\n",
        "data = data_pd.values\n",
        "from sklearn import preprocessing\n",
        "le = preprocessing.LabelEncoder()\n",
        "X = data[:,0:20]\n",
        "Y = data[:,20]\n",
        "for i in range(20):\n",
        "  X[:,i] = le.fit_transform(X[:,i])\n",
        "\n",
        "y = le.fit_transform(Y)\n",
        "\n",
        "model = LogisticRegression(solver='lbfgs', max_iter=1000)\n",
        "rfe = RFE(model, 3)\n",
        "fit = rfe.fit(X, Y)\n",
        "print(\"Num Features: %d\" % fit.n_features_)\n",
        "print(\"Selected Features: %s\" % fit.support_)\n",
        "print(\"Feature Ranking: %s\" % fit.ranking_ )\n",
        "\n",
        "print(list(data_pd))"
      ],
      "execution_count": 0,
      "outputs": []
    },
    {
      "cell_type": "code",
      "metadata": {
        "id": "KSUtBUwI4wFd",
        "colab_type": "code",
        "colab": {}
      },
      "source": [
        "#PREPROCESSING CUSTOMERID DATA\n",
        "from sklearn import preprocessing\n",
        "le1 = preprocessing.LabelEncoder()\n",
        "customerid = data_pd['customerID']\n",
        "#print(\"Unique Values:\",customerid.unique())\n",
        "\n",
        "customerid_encoded = le1.fit_transform(customerid)\n",
        "print(\"Unique Values Encoded:\",np.unique(customerid_encoded))\n",
        "\n",
        "customerid_decoded = list(le1.inverse_transform(customerid_encoded))\n",
        "print(\"Unique Values Decoded:\",np.unique(customerid_decoded))"
      ],
      "execution_count": 0,
      "outputs": []
    },
    {
      "cell_type": "code",
      "metadata": {
        "id": "hxtW-tZHDga7",
        "colab_type": "code",
        "colab": {}
      },
      "source": [
        "#PREPROCESSING ONLINESECURITY DATA\n",
        "#print(customerid_encoded)\n",
        "from sklearn import preprocessing\n",
        "le2 = preprocessing.LabelEncoder()\n",
        "onlineSecurity = data_pd['OnlineSecurity']\n",
        "print(\"Unique Values:\",onlineSecurity.unique())\n",
        "\n",
        "onlineSecurity_encoded = le2.fit_transform(onlineSecurity)\n",
        "print(\"Unique Values Encoded:\",np.unique(onlineSecurity_encoded))\n",
        "\n",
        "onlineSecurity_decoded = list(le2.inverse_transform(onlineSecurity_encoded))\n",
        "print(\"Unique Values Decoded:\",np.unique(onlineSecurity_decoded))"
      ],
      "execution_count": 0,
      "outputs": []
    },
    {
      "cell_type": "code",
      "metadata": {
        "id": "TtlhT_gGEBf3",
        "colab_type": "code",
        "colab": {}
      },
      "source": [
        "#PREPROCESSING CONTRACT DATA\n",
        "#print(customerid_encoded)\n",
        "#print(onlineSecurity_encoded)\n",
        "from sklearn import preprocessing\n",
        "le3 = preprocessing.LabelEncoder()\n",
        "contract = data_pd['Contract']\n",
        "print(\"Unique Values:\",contract.unique())\n",
        "\n",
        "contract_encoded = le3.fit_transform(contract)\n",
        "print(\"Unique Values Encoded:\",np.unique(contract_encoded))\n",
        "\n",
        "contract_decoded = list(le3.inverse_transform(contract_encoded))\n",
        "print(\"Unique Values Decoded:\",np.unique(contract_decoded))"
      ],
      "execution_count": 0,
      "outputs": []
    },
    {
      "cell_type": "code",
      "metadata": {
        "id": "ihmDjxgiEZ4o",
        "colab_type": "code",
        "colab": {}
      },
      "source": [
        "#PREPROCESSING PAPERLESSBILLING DATA\n",
        "#print(customerid_encoded)\n",
        "#print(onlineSecurity_encoded)\n",
        "#print(contract_encoded)\n",
        "from sklearn import preprocessing\n",
        "le4 = preprocessing.LabelEncoder()\n",
        "paperless = data_pd['PaperlessBilling']\n",
        "print(\"Unique Values:\",paperless.unique())\n",
        "\n",
        "paperless_encoded = le4.fit_transform(paperless)\n",
        "print(\"Unique Values Encoded:\",np.unique(paperless_encoded))\n",
        "\n",
        "paperless_decoded = list(le4.inverse_transform(paperless_encoded))\n",
        "print(\"Unique Values Decoded:\",np.unique(paperless_decoded))"
      ],
      "execution_count": 0,
      "outputs": []
    },
    {
      "cell_type": "code",
      "metadata": {
        "id": "Pkx0t95hFA8Q",
        "colab_type": "code",
        "colab": {}
      },
      "source": [
        "#PREPROCESSING CHURN DATA\n",
        "#print(customerid_encoded)\n",
        "#print(onlineSecurity_encoded)\n",
        "#print(contract_encoded)\n",
        "#print(paperless_encoded)\n",
        "from sklearn import preprocessing\n",
        "le5 = preprocessing.LabelEncoder()\n",
        "churn = data_pd['Churn']\n",
        "print(\"Unique Values:\",churn.unique())\n",
        "\n",
        "churn_encoded = le5.fit_transform(churn)\n",
        "print(\"Unique Values Encoded:\",np.unique(churn_encoded))\n",
        "\n",
        "churn_decoded = list(le5.inverse_transform(churn_encoded))\n",
        "print(\"Unique Values Decoded:\",np.unique(churn_decoded))"
      ],
      "execution_count": 0,
      "outputs": []
    },
    {
      "cell_type": "code",
      "metadata": {
        "id": "plSQEEqOFaxO",
        "colab_type": "code",
        "colab": {}
      },
      "source": [
        "#PACKAGING FEATURES TOGETHER\n",
        "#print(customerid_encoded)\n",
        "#print(onlineSecurity_encoded)\n",
        "#print(contract_encoded)\n",
        "#print(paperless_encoded)\n",
        "#print(churn_encoded)\n",
        "\n",
        "#Combining features AS Tuples\n",
        "features = list(zip(customerid_encoded, onlineSecurity_encoded, contract_encoded, paperless_encoded))\n",
        "print(\"Training Dataset:\",features[0:10])"
      ],
      "execution_count": 0,
      "outputs": []
    },
    {
      "cell_type": "code",
      "metadata": {
        "id": "w3uxHTRFFy4r",
        "colab_type": "code",
        "colab": {}
      },
      "source": [
        "from sklearn.model_selection import train_test_split\n",
        "X_train, X_test, y_train, y_test = train_test_split(features, churn_encoded, test_size=0.4, random_state=109)"
      ],
      "execution_count": 0,
      "outputs": []
    },
    {
      "cell_type": "code",
      "metadata": {
        "id": "OlXJfD0UF9s_",
        "colab_type": "code",
        "colab": {}
      },
      "source": [
        "#CREATING AND TRAINING THE MODEL\n",
        "print(\"Training Dataset:\",X_train[0:100])\n",
        "\n",
        "from sklearn.naive_bayes import GaussianNB\n",
        "model = GaussianNB()\n",
        "model.fit(X_train, y_train)\n",
        "print(\"Model Trained!\")"
      ],
      "execution_count": 0,
      "outputs": []
    },
    {
      "cell_type": "code",
      "metadata": {
        "id": "SNTs6oy6GG3l",
        "colab_type": "code",
        "colab": {}
      },
      "source": [
        "#Predicting Rental Prices\n",
        "predicted = model.predict(X_test)\n",
        "print(predicted)"
      ],
      "execution_count": 0,
      "outputs": []
    },
    {
      "cell_type": "code",
      "metadata": {
        "id": "c5_3LrbmGRUl",
        "colab_type": "code",
        "colab": {}
      },
      "source": [
        "#Decode the predicted output\n",
        "predicted_decoded = le5.inverse_transform(predicted)\n",
        "print(predicted_decoded)"
      ],
      "execution_count": 0,
      "outputs": []
    },
    {
      "cell_type": "code",
      "metadata": {
        "id": "Wjjni2cUGX4f",
        "colab_type": "code",
        "colab": {}
      },
      "source": [
        "from sklearn import metrics\n",
        "print(\"Accuracy:\",(round(metrics.accuracy_score(y_test,predicted) * 100)), \"%\")"
      ],
      "execution_count": 0,
      "outputs": []
    },
    {
      "cell_type": "code",
      "metadata": {
        "id": "iXVo1hB_i9ml",
        "colab_type": "code",
        "colab": {
          "base_uri": "https://localhost:8080/",
          "height": 35
        },
        "outputId": "05266d91-0022-4e2f-9e2b-077f2cfd9c9a"
      },
      "source": [
        "#An alternative approach to GaussainNB\n",
        "df = data_pd\n",
        "for col_name in df.columns:\n",
        "    if(df[col_name].dtype == 'object'):\n",
        "        df[col_name]= df[col_name].astype('category')\n",
        "        df[col_name] = df[col_name].cat.codes\n",
        "'''with np.printoptions(threshold=np.inf):\n",
        "  print(df.columns)'''\n",
        "\n",
        "features_cols = ['customerID', 'gender', 'SeniorCitizen', 'Partner', 'Dependents',\n",
        "       'tenure', 'PhoneService', 'MultipleLines', 'InternetService',\n",
        "       'OnlineSecurity', 'OnlineBackup', 'DeviceProtection', 'TechSupport',\n",
        "       'StreamingTV', 'StreamingMovies', 'Contract', 'PaperlessBilling',\n",
        "       'PaymentMethod', 'MonthlyCharges', 'TotalCharges']\n",
        "\n",
        "X = df[features_cols]\n",
        "Y = df.Churn\n",
        "\n",
        "from sklearn.model_selection import train_test_split\n",
        "X_train, X_test, Y_train, Y_test = train_test_split(X, Y, test_size=0.4, random_state=1)\n",
        "from sklearn.naive_bayes import GaussianNB\n",
        "model = GaussianNB()\n",
        "model.fit(X_train, y_train)\n",
        "predicted = model.predict(X_test)\n",
        "from sklearn import metrics\n",
        "print(\"Accuracy:\",(round(metrics.accuracy_score(y_test,predicted) * 100)), \"%\")"
      ],
      "execution_count": 21,
      "outputs": [
        {
          "output_type": "stream",
          "text": [
            "Accuracy: 73.0 %\n"
          ],
          "name": "stdout"
        }
      ]
    }
  ]
}