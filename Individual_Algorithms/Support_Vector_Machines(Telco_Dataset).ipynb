{
  "nbformat": 4,
  "nbformat_minor": 0,
  "metadata": {
    "colab": {
      "name": "Support Vector Machines(Telco Dataset).ipynb",
      "provenance": [],
      "collapsed_sections": []
    },
    "kernelspec": {
      "name": "python3",
      "display_name": "Python 3"
    }
  },
  "cells": [
    {
      "cell_type": "code",
      "metadata": {
        "id": "HpjHhZlugxXl",
        "colab_type": "code",
        "colab": {}
      },
      "source": [
        "import pandas as pd\n",
        "import numpy as np\n",
        "from google.colab import files\n",
        "uploaded = files.upload()\n",
        "\n",
        "data_pd = pd.read_csv('WA_Fn-UseC_-Telco-Customer-Churn.csv', index_col=False)\n",
        "df = data_pd\n",
        "for col_name in df.columns:\n",
        "    if(df[col_name].dtype == 'object'):\n",
        "        df[col_name]= df[col_name].astype('category')\n",
        "        df[col_name] = df[col_name].cat.codes\n",
        "with np.printoptions(threshold=np.inf):\n",
        "  print(df.columns)"
      ],
      "execution_count": 0,
      "outputs": []
    },
    {
      "cell_type": "code",
      "metadata": {
        "id": "hHeXz_55gymC",
        "colab_type": "code",
        "colab": {}
      },
      "source": [
        "features_cols = ['customerID', 'gender', 'SeniorCitizen', 'Partner', 'Dependents',\n",
        "       'tenure', 'PhoneService', 'MultipleLines', 'InternetService',\n",
        "       'OnlineSecurity', 'OnlineBackup', 'DeviceProtection', 'TechSupport',\n",
        "       'StreamingTV', 'StreamingMovies', 'Contract', 'PaperlessBilling',\n",
        "       'PaymentMethod', 'MonthlyCharges', 'TotalCharges']\n",
        "\n",
        "X = df[features_cols]\n",
        "Y = df.Churn\n",
        "\n",
        "from sklearn.model_selection import train_test_split\n",
        "X_train, X_test, Y_train, Y_test = train_test_split(X, Y, test_size=0.3, random_state=1)"
      ],
      "execution_count": 0,
      "outputs": []
    },
    {
      "cell_type": "code",
      "metadata": {
        "id": "85ISbHPng14H",
        "colab_type": "code",
        "colab": {}
      },
      "source": [
        "#SVM - Linear Example\n",
        "from sklearn.model_selection import train_test_split\n",
        "X_train, X_test, Y_train, Y_test = train_test_split(X, Y, test_size=0.3, random_state=1)\n",
        "\n",
        "from sklearn import svm\n",
        "svm_model = svm.SVC(kernel='linear', gamma='auto')\n",
        "svm_model.fit(X_train, Y_train)\n",
        "Y_pred_svm = svm_model.predict(X_test)\n",
        "print(Y_pred_svm)\n",
        "\n",
        "from sklearn import metrics\n",
        "print(\"Accuracy:\",(round(metrics.accuracy_score(Y_test,Y_pred_svm) * 100)), \"%\")"
      ],
      "execution_count": 0,
      "outputs": []
    },
    {
      "cell_type": "code",
      "metadata": {
        "id": "KnTywL9Sg4dP",
        "colab_type": "code",
        "colab": {}
      },
      "source": [
        "#SVM - Sigmoid Example\n",
        "from sklearn.model_selection import train_test_split\n",
        "X_train, X_test, Y_train, Y_test = train_test_split(X, Y, test_size=0.3, random_state=1)\n",
        "\n",
        "from sklearn import svm\n",
        "svm_model = svm.SVC(kernel='sigmoid', gamma='auto')\n",
        "svm_model.fit(X_train, Y_train)\n",
        "\n",
        "Y_pred_svm = svm_model.predict(X_test)\n",
        "print(Y_pred_svm)\n",
        "\n",
        "from sklearn import metrics\n",
        "print(\"Accuracy:\",(round(metrics.accuracy_score(Y_test,Y_pred_svm) * 100)), \"%\")"
      ],
      "execution_count": 0,
      "outputs": []
    },
    {
      "cell_type": "code",
      "metadata": {
        "id": "OViFnDMDg-W4",
        "colab_type": "code",
        "colab": {}
      },
      "source": [
        "#SVM - RBF Example\n",
        "from sklearn.model_selection import train_test_split\n",
        "X_train, X_test, Y_train, Y_test = train_test_split(X, Y, test_size=0.3, random_state=1)\n",
        "\n",
        "from sklearn import svm\n",
        "svm_model = svm.SVC(kernel='rbf', gamma='auto')\n",
        "svm_model.fit(X_train, Y_train)\n",
        "\n",
        "Y_pred_svm = svm_model.predict(X_test)\n",
        "print(Y_pred_svm)\n",
        "\n",
        "from sklearn import metrics\n",
        "print(\"Accuracy:\",(round(metrics.accuracy_score(Y_test,Y_pred_svm) * 100)), \"%\")"
      ],
      "execution_count": 0,
      "outputs": []
    }
  ]
}